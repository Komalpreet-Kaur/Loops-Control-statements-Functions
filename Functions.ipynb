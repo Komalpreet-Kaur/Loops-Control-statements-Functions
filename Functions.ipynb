{
 "cells": [
  {
   "cell_type": "markdown",
   "metadata": {},
   "source": [
    "**A function is one of the main building blocks when we construct larger and larger amount of code to solve problems. It allows to reuse the code instead of writing the code again and again.**"
   ]
  },
  {
   "cell_type": "markdown",
   "metadata": {},
   "source": [
    "SYNTAX :\n",
    "###### def name of function(args): \n",
    "     do stuff here\n",
    "  return desired result \n"
   ]
  },
  {
   "cell_type": "code",
   "execution_count": 1,
   "metadata": {},
   "outputs": [
    {
     "data": {
      "text/plain": [
       "'HI'"
      ]
     },
     "execution_count": 1,
     "metadata": {},
     "output_type": "execute_result"
    }
   ],
   "source": [
    "### a simple hello function ###\n",
    "def say_hello():\n",
    "    return \"HI\"\n",
    "say_hello()"
   ]
  },
  {
   "cell_type": "code",
   "execution_count": 2,
   "metadata": {},
   "outputs": [
    {
     "data": {
      "text/plain": [
       "25"
      ]
     },
     "execution_count": 2,
     "metadata": {},
     "output_type": "execute_result"
    }
   ],
   "source": [
    "### addition of two numbers  ###\n",
    "def adder(a,b):\n",
    "    return a+b\n",
    "adder(10,15)"
   ]
  },
  {
   "cell_type": "markdown",
   "metadata": {},
   "source": [
    "#### ITERATORS AND GENERATORS"
   ]
  },
  {
   "cell_type": "markdown",
   "metadata": {},
   "source": [
    "Generators look like ffunctions but behave like iterators. Geneartors allow us to to generate values as we go along instead of storing everything in memory. It will use \"yield\" in syntax."
   ]
  },
  {
   "cell_type": "code",
   "execution_count": 3,
   "metadata": {},
   "outputs": [],
   "source": [
    "### Function for writing cubes ###\n",
    "list_cube=[]\n",
    "def cube(x):\n",
    "    for i in range(x):\n",
    "        list_cube.append(i**3)\n",
    "    return list_cube\n"
   ]
  },
  {
   "cell_type": "code",
   "execution_count": 4,
   "metadata": {},
   "outputs": [
    {
     "data": {
      "text/plain": [
       "[0, 1, 8, 27]"
      ]
     },
     "execution_count": 4,
     "metadata": {},
     "output_type": "execute_result"
    }
   ],
   "source": [
    "cube(4)"
   ]
  },
  {
   "cell_type": "markdown",
   "metadata": {},
   "source": [
    "Here, in above program we can see that we have to use append() to store the values, that is initially we need to create a list for storing cubes values.\n",
    "But if we dont want to initially create a list , we can use the concept of generator for that."
   ]
  },
  {
   "cell_type": "code",
   "execution_count": 5,
   "metadata": {},
   "outputs": [
    {
     "name": "stdout",
     "output_type": "stream",
     "text": [
      "0\n",
      "1\n",
      "8\n",
      "27\n"
     ]
    }
   ],
   "source": [
    "def gen_cubes(n):\n",
    "    for i in range(n):\n",
    "        yield i**3\n",
    "for x in gen_cubes(4):\n",
    "    print(x)"
   ]
  },
  {
   "cell_type": "markdown",
   "metadata": {},
   "source": [
    "map() - takes two arguments, (i) a function (ii) a sequence iterable. map() applies the function to all the elements of the sequence and returns a new list with the elements changed by the functions. "
   ]
  },
  {
   "cell_type": "code",
   "execution_count": 6,
   "metadata": {},
   "outputs": [],
   "source": [
    "def sq_fn(n):\n",
    "    return n**2\n",
    "def cube_fn(n):\n",
    "    return n**3"
   ]
  },
  {
   "cell_type": "code",
   "execution_count": 7,
   "metadata": {},
   "outputs": [
    {
     "name": "stdout",
     "output_type": "stream",
     "text": [
      "4 9 16\n",
      "8 27 64\n"
     ]
    }
   ],
   "source": [
    "t=[2,3,4]\n",
    "print(*(map(sq_fn,t)))\n",
    "print(*(map(cube_fn,t)))"
   ]
  },
  {
   "cell_type": "markdown",
   "metadata": {},
   "source": [
    "lambda() - It is an anonymous (having no name) function that is defined in a single line and can have any number of arguments, but only on expression. Map is more commonly used with lambda."
   ]
  },
  {
   "cell_type": "code",
   "execution_count": 9,
   "metadata": {},
   "outputs": [
    {
     "name": "stdout",
     "output_type": "stream",
     "text": [
      "[9, 16, 25]\n"
     ]
    }
   ],
   "source": [
    "list_1=[3,4,5]\n",
    "d=list(map(lambda x:x**2, list_1))     # using lambda, we need not to create functions as in aove example.\n",
    "print(d)"
   ]
  },
  {
   "cell_type": "markdown",
   "metadata": {},
   "source": [
    "reduce() - The fuction reduce(function,sequence) continually applies the fuction to the sequence and then returns a single value.\n",
    "\n",
    "**To import reduce(), we need to import functools library**"
   ]
  },
  {
   "cell_type": "code",
   "execution_count": 11,
   "metadata": {},
   "outputs": [
    {
     "name": "stdout",
     "output_type": "stream",
     "text": [
      "630\n"
     ]
    }
   ],
   "source": [
    "from functools import reduce\n",
    "ex_list= [2,5,7,9]\n",
    "res= reduce(lambda x,y:x*y, ex_list)\n",
    "print(res)"
   ]
  }
 ],
 "metadata": {
  "kernelspec": {
   "display_name": "Python 3",
   "language": "python",
   "name": "python3"
  },
  "language_info": {
   "codemirror_mode": {
    "name": "ipython",
    "version": 3
   },
   "file_extension": ".py",
   "mimetype": "text/x-python",
   "name": "python",
   "nbconvert_exporter": "python",
   "pygments_lexer": "ipython3",
   "version": "3.7.3"
  }
 },
 "nbformat": 4,
 "nbformat_minor": 2
}
